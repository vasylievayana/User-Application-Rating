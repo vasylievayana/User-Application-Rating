{
 "cells": [
  {
   "cell_type": "markdown",
   "id": "339c31f0-3452-4be2-905b-8abd1fe216f3",
   "metadata": {},
   "source": [
    "1. Importing libraries:"
   ]
  },
  {
   "cell_type": "code",
   "execution_count": 2,
   "id": "f05b3745-a9ae-4617-a81f-cba4fa0b8ba0",
   "metadata": {},
   "outputs": [],
   "source": [
    "import pandas as pd\n",
    "import numpy as np\n",
    "import matplotlib.pyplot as plt\n",
    "import seaborn as sns"
   ]
  },
  {
   "cell_type": "markdown",
   "id": "2b9b3b83-5d2a-4168-a8cc-31e232c7d57f",
   "metadata": {},
   "source": [
    "2. Loading data from files:"
   ]
  },
  {
   "cell_type": "code",
   "execution_count": 4,
   "id": "0c13e778-e222-4b94-82fa-ddaf0ef4a4ce",
   "metadata": {},
   "outputs": [],
   "source": [
    "# Loading the data from applications.csv and industries.csv\n",
    "applications_df = pd.read_csv ('applications(2.0).csv')\n",
    "industries_df = pd.read_csv ('industries(2.0).csv')"
   ]
  },
  {
   "cell_type": "markdown",
   "id": "014ef4e8-4481-4ae1-8fa4-141e91beb144",
   "metadata": {},
   "source": [
    "3. Data cleaning:"
   ]
  },
  {
   "cell_type": "code",
   "execution_count": 6,
   "id": "53cb00b1-5ceb-468c-b1db-65913a0075ff",
   "metadata": {},
   "outputs": [],
   "source": [
    "# Removing duplicates from the applicant_id column\n",
    "applications_df = applications_df.drop_duplicates(subset = 'applicant_id')"
   ]
  },
  {
   "cell_type": "code",
   "execution_count": 7,
   "id": "c0e92851-ded0-4e1a-ad27-77e171ba4ad9",
   "metadata": {},
   "outputs": [],
   "source": [
    "# Filling missing values ​​in the 'External Rating' field with 0\n",
    "applications_df['External Rating'] = applications_df['External Rating'].fillna(0)"
   ]
  },
  {
   "cell_type": "code",
   "execution_count": 8,
   "id": "e84de7a4-28aa-48ae-bc90-415f567b3e20",
   "metadata": {},
   "outputs": [],
   "source": [
    "# Filling missing values ​​in the 'Education level' field with the text \"Середня\"\n",
    "applications_df['Education level'] = applications_df['Education level'].fillna('Середня')"
   ]
  },
  {
   "cell_type": "markdown",
   "id": "0f0f59fa-205d-4148-8a90-d3dc431e0088",
   "metadata": {},
   "source": [
    "4. Merging applications_df with industries_df:"
   ]
  },
  {
   "cell_type": "code",
   "execution_count": 10,
   "id": "7d17947c-fc1a-4b50-af67-7ac065300e4d",
   "metadata": {},
   "outputs": [],
   "source": [
    "#  Merging DataFrames: applications_df with industries_df on 'Industry' column\n",
    "applications_df = applications_df.merge(industries_df, how = 'left', on = 'Industry')"
   ]
  },
  {
   "cell_type": "markdown",
   "id": "f8bfafaf-a1dd-412e-8865-2bd6d436503a",
   "metadata": {},
   "source": [
    "5. Calculation of the application rating:"
   ]
  },
  {
   "cell_type": "code",
   "execution_count": 12,
   "id": "6c5f4668-e607-40fb-9302-e4bd95601083",
   "metadata": {},
   "outputs": [],
   "source": [
    "# Initialize a 'Rating' column with zeros\n",
    "applications_df['Rating'] = 0"
   ]
  },
  {
   "cell_type": "code",
   "execution_count": 13,
   "id": "eaf004fa-4912-4706-8e9c-33fad4091897",
   "metadata": {},
   "outputs": [],
   "source": [
    "# Add 20 points if the applicant's age is between 35 and 55\n",
    "applications_df['Rating'] += ((applications_df['Age']>=35)&(applications_df['Age']<=55))*20"
   ]
  },
  {
   "cell_type": "code",
   "execution_count": 14,
   "id": "b82f6c40-ea2d-4561-b564-66cd3a1d0679",
   "metadata": {},
   "outputs": [],
   "source": [
    "# Extract the 'Applied date' from 'Applied at' for further checking the day of week\n",
    "applications_df[['Applied date', 'Time']] = applications_df['Applied at'].str.split(pat = ' ', expand = True)\n",
    "applications_df.drop(labels='Time', axis = 1, inplace = True)\n",
    "applications_df['Applied date'] = pd.to_datetime(applications_df['Applied date'])"
   ]
  },
  {
   "cell_type": "code",
   "execution_count": 15,
   "id": "44c78f04-601c-44e8-9b66-95b1797bb1b4",
   "metadata": {},
   "outputs": [],
   "source": [
    "# Add 20 points if the application was not submitted on a weekend\n",
    "applications_df['Rating'] += (applications_df['Applied date'].dt.dayofweek <= 4) * 20"
   ]
  },
  {
   "cell_type": "code",
   "execution_count": 16,
   "id": "e0d30142-0b0f-49f9-a9bd-0a4a7e63b053",
   "metadata": {},
   "outputs": [],
   "source": [
    "# Add 20 points if the applicant is married\n",
    "applications_df['Rating'] += (applications_df['Marital status'] == 'Married') * 20"
   ]
  },
  {
   "cell_type": "code",
   "execution_count": 17,
   "id": "35555a27-cbb3-4413-ad9c-f5ebc3970047",
   "metadata": {},
   "outputs": [],
   "source": [
    "# Add 10 points if the applicant is located in \"Київ чи область\"\n",
    "applications_df['Rating'] += (applications_df['Location'] == 'Київ чи область') * 10"
   ]
  },
  {
   "cell_type": "code",
   "execution_count": 18,
   "id": "1b336eeb-bff1-4d4d-a137-9051558616ee",
   "metadata": {},
   "outputs": [],
   "source": [
    "# Add the 'Score' value from the industries.csv table to the rating\n",
    "applications_df['Rating'] += applications_df ['Score']"
   ]
  },
  {
   "cell_type": "code",
   "execution_count": 19,
   "id": "9a691eec-3059-4894-974e-610f307b7ab6",
   "metadata": {},
   "outputs": [],
   "source": [
    "# If 'External Rating' is greater than or equal to 7, 20 points are added to the rating\n",
    "applications_df['Rating'] += (applications_df['External Rating'] >= 7) *20"
   ]
  },
  {
   "cell_type": "code",
   "execution_count": 20,
   "id": "3c3e792d-bd78-4fef-8625-40532497fb78",
   "metadata": {},
   "outputs": [],
   "source": [
    "# If 'External Rating' is less than or equal to 2, 20 points are deducted from the rating\n",
    "applications_df['Rating']-= (applications_df['External Rating'] <= 2) * 20"
   ]
  },
  {
   "cell_type": "code",
   "execution_count": 21,
   "id": "3d74f39e-130c-46a6-bb80-9afa66b8038b",
   "metadata": {},
   "outputs": [],
   "source": [
    "# Ensure the rating is between 0 and 100\n",
    "applications_df['Rating'] = np.clip (applications_df['Rating'], 0, 100)"
   ]
  },
  {
   "cell_type": "code",
   "execution_count": 22,
   "id": "83c72399-e82b-45a0-9886-8ce9ac9ce4ed",
   "metadata": {},
   "outputs": [],
   "source": [
    "# Set the rating to 0 if 'Amount' is missing or 'External Rating' is 0\n",
    "applications_df['Rating'] = np.where ((pd.isna(applications_df['Amount']))| (applications_df['External Rating']) == float(0),\n",
    "                                   0,\n",
    "                                   applications_df['Rating'] )"
   ]
  },
  {
   "cell_type": "markdown",
   "id": "3677633f-03a6-4682-85be-845e9a70b5a2",
   "metadata": {},
   "source": [
    "6. Filtering applications with a rating greater than zero:"
   ]
  },
  {
   "cell_type": "code",
   "execution_count": 24,
   "id": "ba0a7e2b-29de-452b-b8c6-69b5c89fa242",
   "metadata": {},
   "outputs": [],
   "source": [
    "# Creation of Data Frame from applications with a rating greater than zero\n",
    "accepted_applications = applications_df[applications_df['Rating']>0]"
   ]
  },
  {
   "cell_type": "markdown",
   "id": "99389963-8f60-4bad-94ef-8ace2917ec1d",
   "metadata": {},
   "source": [
    "7. Grouping data by the week of application submission and output to the lineplot and histogram:"
   ]
  },
  {
   "cell_type": "code",
   "execution_count": 26,
   "id": "f32b990a-d91c-4949-8ea1-917972149ba3",
   "metadata": {},
   "outputs": [
    {
     "name": "stderr",
     "output_type": "stream",
     "text": [
      "C:\\Users\\Yana Vasylieva\\AppData\\Local\\Temp\\ipykernel_74480\\1520911082.py:2: SettingWithCopyWarning: \n",
      "A value is trying to be set on a copy of a slice from a DataFrame.\n",
      "Try using .loc[row_indexer,col_indexer] = value instead\n",
      "\n",
      "See the caveats in the documentation: https://pandas.pydata.org/pandas-docs/stable/user_guide/indexing.html#returning-a-view-versus-a-copy\n",
      "  accepted_applications['Application week'] = accepted_applications['Applied date'].dt.to_period('W').apply(lambda r: f\"{r.start_time.year}-{r.start_time.strftime('%W')}\")\n"
     ]
    }
   ],
   "source": [
    "# Creation of a column with the week of application submission\n",
    "accepted_applications['Application week'] = accepted_applications['Applied date'].dt.to_period('W').apply(lambda r: f\"{r.start_time.year}-{r.start_time.strftime('%W')}\")"
   ]
  },
  {
   "cell_type": "code",
   "execution_count": 27,
   "id": "fad36147-0fa7-4a44-991d-d9c07886b596",
   "metadata": {},
   "outputs": [],
   "source": [
    "# Grouping by application week and calculation of average rating\n",
    "accepted_applications_by_week = accepted_applications.pivot_table(values = 'Rating', index = 'Application week', aggfunc = lambda x: np.round(np.mean(x), 2)).reset_index()"
   ]
  },
  {
   "cell_type": "code",
   "execution_count": 28,
   "id": "a9518e7e-e53b-40a8-ae54-3df93c24a9bb",
   "metadata": {},
   "outputs": [
    {
     "data": {
      "image/png": "[encoded data removed]",
      "text/plain": [
       "<Figure size 800x400 with 1 Axes>"
      ]
     },
     "metadata": {},
     "output_type": "display_data"
    }
   ],
   "source": [
    "# Visualize the average rating of accepted applications by week\n",
    "plt.figure (figsize = (8, 4), dpi = 100)\n",
    "sns.lineplot (data = accepted_applications_by_week, x = 'Application week', y = 'Rating')\n",
    "plt.title('Average Rating of Accepted Applications by Week')\n",
    "plt.xlabel('Week')\n",
    "plt.ylabel('Average Rating')\n",
    "plt.ylabel ('Average rating')\n",
    "plt.show()"
   ]
  },
  {
   "cell_type": "code",
   "execution_count": 29,
   "id": "01d0ccfa-672f-476c-85ef-e813ff00f399",
   "metadata": {},
   "outputs": [
    {
     "data": {
      "image/png": "[encoded data removed]",
      "text/plain": [
       "<Figure size 800x400 with 1 Axes>"
      ]
     },
     "metadata": {},
     "output_type": "display_data"
    }
   ],
   "source": [
    "# Visualize the distribution of ratings\n",
    "plt.figure (figsize = (8, 4), dpi = 100)\n",
    "sns.histplot(accepted_applications['Rating'], bins=10)\n",
    "plt.title('Distribution of Application Ratings')\n",
    "plt.xlabel('Rating')\n",
    "plt.ylabel('Frequency')\n",
    "plt.show()"
   ]
  }
 ],
 "metadata": {
  "kernelspec": {
   "display_name": "Python 3 (ipykernel)",
   "language": "python",
   "name": "python3"
  },
  "language_info": {
   "codemirror_mode": {
    "name": "ipython",
    "version": 3
   },
   "file_extension": ".py",
   "mimetype": "text/x-python",
   "name": "python",
   "nbconvert_exporter": "python",
   "pygments_lexer": "ipython3",
   "version": "3.12.4"
  }
 },
 "nbformat": 4,
 "nbformat_minor": 5
}
